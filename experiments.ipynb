{
 "cells": [
  {
   "cell_type": "code",
   "execution_count": 1,
   "metadata": {},
   "outputs": [
    {
     "data": {
      "text/plain": [
       "['data/chars/V-60IJS6.jpg',\n",
       " 'data/chars/T-9M41E6.jpg',\n",
       " 'data/chars/Z-8655B9.jpg',\n",
       " 'data/chars/G-II514C.jpg',\n",
       " 'data/chars/R-XTLNAN.jpg']"
      ]
     },
     "execution_count": 1,
     "metadata": {},
     "output_type": "execute_result"
    }
   ],
   "source": [
    "from glob import glob\n",
    "\n",
    "char_img_paths = glob('data/chars/*.jpg')\n",
    "char_img_paths[:5]"
   ]
  },
  {
   "cell_type": "code",
   "execution_count": 42,
   "metadata": {},
   "outputs": [],
   "source": [
    "chars_list = '0123456789ABCDEFGHIJKLMNOPQRSTUVWXYZ'\n",
    "chars_dict = {c: chars_list.index(c) for c in chars_list}"
   ]
  },
  {
   "cell_type": "code",
   "execution_count": 43,
   "metadata": {},
   "outputs": [],
   "source": [
    "import cv2\n",
    "import numpy as np\n",
    "\n",
    "np_images = []\n",
    "raw_labels = []\n",
    "\n",
    "for char_img_path in char_img_paths:\n",
    "    np_image = cv2.imread(char_img_path, cv2.IMREAD_GRAYSCALE)\n",
    "    raw_label = char_img_path.split('/')[-1].split('-')[0]\n",
    "    \n",
    "    np_images.append(np_image)\n",
    "    raw_labels.append(chars_dict[raw_label])\n",
    "np_images = np.array(np_images) / 255.0\n",
    "raw_labels = np.array(raw_labels)    "
   ]
  },
  {
   "cell_type": "code",
   "execution_count": 44,
   "metadata": {},
   "outputs": [],
   "source": [
    "np_images = np_images.reshape([5056, 36*30])"
   ]
  },
  {
   "cell_type": "code",
   "execution_count": 45,
   "metadata": {},
   "outputs": [
    {
     "data": {
      "text/plain": [
       "array([31, 29, 35, ..., 11,  5, 25])"
      ]
     },
     "execution_count": 45,
     "metadata": {},
     "output_type": "execute_result"
    }
   ],
   "source": [
    "labels"
   ]
  },
  {
   "cell_type": "code",
   "execution_count": 46,
   "metadata": {},
   "outputs": [
    {
     "data": {
      "text/plain": [
       "((5056, 1080), (5056,))"
      ]
     },
     "execution_count": 46,
     "metadata": {},
     "output_type": "execute_result"
    }
   ],
   "source": [
    "np_images.shape, labels.shape"
   ]
  },
  {
   "cell_type": "code",
   "execution_count": 47,
   "metadata": {},
   "outputs": [],
   "source": [
    "from sklearn.model_selection import train_test_split\n",
    "np_images_train, np_images_test, labels_train, labels_test = \\\n",
    "    train_test_split(np_images, labels, test_size=0.2, random_state=42)"
   ]
  },
  {
   "cell_type": "code",
   "execution_count": 48,
   "metadata": {},
   "outputs": [
    {
     "data": {
      "text/plain": [
       "0.99604743083003955"
      ]
     },
     "execution_count": 48,
     "metadata": {},
     "output_type": "execute_result"
    }
   ],
   "source": [
    "from sklearn.svm import LinearSVC\n",
    "from sklearn.metrics import accuracy_score\n",
    "\n",
    "clf = LinearSVC(C=10e5)\n",
    "clf.fit(np_images_train, labels_train)\n",
    "labels_pred = clf.predict(np_images_test)\n",
    "accuracy_score(labels_pred, labels_test)"
   ]
  },
  {
   "cell_type": "code",
   "execution_count": 49,
   "metadata": {},
   "outputs": [
    {
     "data": {
      "text/plain": [
       "['models/svm.pkl']"
      ]
     },
     "execution_count": 49,
     "metadata": {},
     "output_type": "execute_result"
    }
   ],
   "source": [
    "from sklearn.externals import joblib\n",
    "joblib.dump(clf, \"models/svm.pkl\")"
   ]
  },
  {
   "cell_type": "code",
   "execution_count": 52,
   "metadata": {},
   "outputs": [
    {
     "data": {
      "text/plain": [
       "'N'"
      ]
     },
     "execution_count": 52,
     "metadata": {},
     "output_type": "execute_result"
    }
   ],
   "source": [
    "test_image = cv2.imread('N-test_char.jpg', cv2.IMREAD_GRAYSCALE) / 255.0\n",
    "test_image = test_image.reshape([-1, 30*36])\n",
    "clf = joblib.load(\"models/svm.pkl\")\n",
    "chars_list[clf.predict(test_image)[0]]"
   ]
  },
  {
   "cell_type": "code",
   "execution_count": null,
   "metadata": {},
   "outputs": [],
   "source": []
  }
 ],
 "metadata": {
  "kernelspec": {
   "display_name": "Python 3",
   "language": "python",
   "name": "python3"
  },
  "language_info": {
   "codemirror_mode": {
    "name": "ipython",
    "version": 3
   },
   "file_extension": ".py",
   "mimetype": "text/x-python",
   "name": "python",
   "nbconvert_exporter": "python",
   "pygments_lexer": "ipython3",
   "version": "3.5.2"
  }
 },
 "nbformat": 4,
 "nbformat_minor": 2
}
