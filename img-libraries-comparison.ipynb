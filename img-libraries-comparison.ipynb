{
 "cells": [
  {
   "cell_type": "code",
   "execution_count": 1,
   "metadata": {},
   "outputs": [],
   "source": [
    "from imageio import imread"
   ]
  },
  {
   "cell_type": "code",
   "execution_count": 33,
   "metadata": {},
   "outputs": [
    {
     "data": {
      "text/plain": [
       "(imageio.core.util.Image, Image([[253, 241, 243, ...,   0,   0, 249],\n",
       "        [255, 247, 251, ...,   0,  13,  16],\n",
       "        [255, 244, 255, ...,  20,   0,   0],\n",
       "        ..., \n",
       "        [249,   0,   9, ..., 255, 225, 235],\n",
       "        [253, 255,   5, ..., 255, 255, 255],\n",
       "        [226, 249, 250, ..., 224, 255, 225]], dtype=uint8))"
      ]
     },
     "execution_count": 33,
     "metadata": {},
     "output_type": "execute_result"
    }
   ],
   "source": [
    "img = imread('N-test_char.jpg')\n",
    "type(img), img"
   ]
  },
  {
   "cell_type": "code",
   "execution_count": 37,
   "metadata": {},
   "outputs": [
    {
     "data": {
      "text/plain": [
       "array([[253, 241, 243, ...,   0,   0, 249],\n",
       "       [255, 247, 251, ...,   0,  13,  16],\n",
       "       [255, 244, 255, ...,  20,   0,   0],\n",
       "       ..., \n",
       "       [249,   0,   9, ..., 255, 225, 235],\n",
       "       [253, 255,   5, ..., 255, 255, 255],\n",
       "       [226, 249, 250, ..., 224, 255, 225]], dtype=uint8)"
      ]
     },
     "execution_count": 37,
     "metadata": {},
     "output_type": "execute_result"
    }
   ],
   "source": [
    "import numpy as np\n",
    "np.array(img)"
   ]
  },
  {
   "cell_type": "code",
   "execution_count": 8,
   "metadata": {},
   "outputs": [
    {
     "data": {
      "text/plain": [
       "253"
      ]
     },
     "execution_count": 8,
     "metadata": {},
     "output_type": "execute_result"
    }
   ],
   "source": [
    "from PIL import Image\n",
    "img = Image.open('N-test_char.jpg')\n",
    "img.getpixel((0,0))"
   ]
  },
  {
   "cell_type": "code",
   "execution_count": 30,
   "metadata": {},
   "outputs": [
    {
     "data": {
      "text/plain": [
       "(numpy.ndarray, array([[253, 241, 243, ...,   0,   0, 249],\n",
       "        [255, 247, 251, ...,   0,  13,  16],\n",
       "        [255, 244, 255, ...,  20,   0,   0],\n",
       "        ..., \n",
       "        [249,   0,   9, ..., 255, 225, 235],\n",
       "        [253, 255,   5, ..., 255, 255, 255],\n",
       "        [226, 249, 250, ..., 224, 255, 225]], dtype=uint8))"
      ]
     },
     "execution_count": 30,
     "metadata": {},
     "output_type": "execute_result"
    }
   ],
   "source": [
    "import cv2\n",
    "# img = cv2.imread('N-test_char.jpg')\n",
    "img = cv2.imread('N-test_char.jpg', cv2.IMREAD_GRAYSCALE)\n",
    "type(img), img"
   ]
  },
  {
   "cell_type": "code",
   "execution_count": 42,
   "metadata": {},
   "outputs": [
    {
     "data": {
      "text/plain": [
       "['data/chars/V-60IJS6.jpg',\n",
       " 'data/chars/T-9M41E6.jpg',\n",
       " 'data/chars/Z-8655B9.jpg',\n",
       " 'data/chars/G-II514C.jpg',\n",
       " 'data/chars/R-XTLNAN.jpg']"
      ]
     },
     "execution_count": 42,
     "metadata": {},
     "output_type": "execute_result"
    }
   ],
   "source": [
    "from glob import glob\n",
    "\n",
    "char_img_paths = glob('data/chars/*.jpg')\n",
    "char_img_paths[:5]"
   ]
  },
  {
   "cell_type": "code",
   "execution_count": 59,
   "metadata": {},
   "outputs": [],
   "source": [
    "import time\n",
    "\n",
    "def time_check(func):\n",
    "    def inner(*args, **kwargs):\n",
    "        start_s = time.time()\n",
    "        func(*args, **kwargs)\n",
    "        end_s = time.time()\n",
    "        print(\"-------executed time = {}\".format(end_s - start_s))\n",
    "    return inner"
   ]
  },
  {
   "cell_type": "code",
   "execution_count": 64,
   "metadata": {},
   "outputs": [],
   "source": [
    "import imageio\n",
    "@time_check\n",
    "def use_image_io(img_nums):\n",
    "    print(\"Use ImageIO with {} images:\".format(img_nums))\n",
    "    for char_img_path in char_img_paths[:img_nums]:\n",
    "        imageio.imread(char_img_path)\n",
    "\n",
    "import cv2\n",
    "@time_check\n",
    "def use_cv2(img_nums):\n",
    "    print(\"Use cv2 with {} images:\".format(img_nums))\n",
    "    for char_img_path in char_img_paths[:img_nums]:\n",
    "        cv2.imread(char_img_path)\n",
    "        \n",
    "        \n",
    "from PIL import Image\n",
    "@time_check\n",
    "def use_pillow(img_nums):\n",
    "    print(\"Use pillow with {} images:\".format(img_nums))\n",
    "    for char_img_path in char_img_paths[:img_nums]:\n",
    "        Image.open(char_img_path)        "
   ]
  },
  {
   "cell_type": "code",
   "execution_count": 65,
   "metadata": {},
   "outputs": [
    {
     "name": "stdout",
     "output_type": "stream",
     "text": [
      "Use ImageIO with 10 images:\n",
      "-------executed time = 0.011411428451538086\n",
      "Use cv2 with 10 images:\n",
      "-------executed time = 0.0017938613891601562\n",
      "Use pillow with 10 images:\n",
      "-------executed time = 0.0025942325592041016\n"
     ]
    }
   ],
   "source": [
    "use_image_io(10)\n",
    "use_cv2(10)\n",
    "use_pillow(10)"
   ]
  },
  {
   "cell_type": "code",
   "execution_count": 66,
   "metadata": {},
   "outputs": [
    {
     "name": "stdout",
     "output_type": "stream",
     "text": [
      "Use ImageIO with 1000 images:\n",
      "-------executed time = 0.3256680965423584\n",
      "Use cv2 with 1000 images:\n",
      "-------executed time = 0.027820587158203125\n",
      "Use pillow with 1000 images:\n",
      "-------executed time = 0.04254937171936035\n"
     ]
    }
   ],
   "source": [
    "use_image_io(1000)\n",
    "use_cv2(1000)\n",
    "use_pillow(1000)"
   ]
  },
  {
   "cell_type": "code",
   "execution_count": null,
   "metadata": {},
   "outputs": [],
   "source": []
  },
  {
   "cell_type": "code",
   "execution_count": null,
   "metadata": {},
   "outputs": [],
   "source": []
  },
  {
   "cell_type": "code",
   "execution_count": null,
   "metadata": {},
   "outputs": [],
   "source": []
  },
  {
   "cell_type": "code",
   "execution_count": null,
   "metadata": {},
   "outputs": [],
   "source": []
  },
  {
   "cell_type": "code",
   "execution_count": null,
   "metadata": {},
   "outputs": [],
   "source": []
  },
  {
   "cell_type": "code",
   "execution_count": null,
   "metadata": {},
   "outputs": [],
   "source": []
  }
 ],
 "metadata": {
  "kernelspec": {
   "display_name": "Python 3",
   "language": "python",
   "name": "python3"
  },
  "language_info": {
   "codemirror_mode": {
    "name": "ipython",
    "version": 3
   },
   "file_extension": ".py",
   "mimetype": "text/x-python",
   "name": "python",
   "nbconvert_exporter": "python",
   "pygments_lexer": "ipython3",
   "version": "3.5.2"
  }
 },
 "nbformat": 4,
 "nbformat_minor": 2
}
